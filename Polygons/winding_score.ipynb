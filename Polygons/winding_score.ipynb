{
 "cells": [
  {
   "cell_type": "code",
   "execution_count": 2,
   "metadata": {},
   "outputs": [],
   "source": [
    "%matplotlib inline\n",
    "import matplotlib.pyplot as plt\n",
    "import numpy as np"
   ]
  },
  {
   "cell_type": "code",
   "execution_count": 135,
   "metadata": {},
   "outputs": [],
   "source": [
    "# start with a simple polygon\n",
    "poly = np.array([[-0.5, -0.5],\n",
    "                 [0.0,  0.5],\n",
    "                 [0.5, -0.5],\n",
    "                 [-0.5, -0.5]])  # overlap for convenience"
   ]
  },
  {
   "cell_type": "code",
   "execution_count": 136,
   "metadata": {
    "collapsed": true
   },
   "outputs": [],
   "source": [
    "def winding(poly, points):\n",
    "    num_verts = poly.shape[0]\n",
    "    num_points = points.shape[0]\n",
    "    diffs = poly.reshape((num_verts, 1, 2)) - points.reshape((1, num_points, 2))\n",
    "    diffs /= np.sqrt(np.sum(diffs**2, axis=2, keepdims=True))\n",
    "    cos_angles = np.sum(diffs[:-1, :, :] * diffs[1:, :, :], axis=2)\n",
    "    angles = np.arccos(cos_angles)\n",
    "    return np.sum(angles, axis=0) / (2.0 * np.pi)"
   ]
  },
  {
   "cell_type": "code",
   "execution_count": 137,
   "metadata": {},
   "outputs": [],
   "source": [
    "test = np.array([[0.1, 0.0],\n",
    "                 [0.0, 0.499],\n",
    "                 [1.0, 0.0]])"
   ]
  },
  {
   "cell_type": "code",
   "execution_count": 138,
   "metadata": {},
   "outputs": [
    {
     "data": {
      "text/plain": [
       "array([ 1.        ,  1.        ,  0.39758362])"
      ]
     },
     "execution_count": 138,
     "metadata": {},
     "output_type": "execute_result"
    }
   ],
   "source": [
    "winding(poly, test)"
   ]
  },
  {
   "cell_type": "code",
   "execution_count": 139,
   "metadata": {},
   "outputs": [
    {
     "name": "stdout",
     "output_type": "stream",
     "text": [
      "[[-1.         -1.        ]\n",
      " [-0.97979798 -1.        ]\n",
      " [-0.95959596 -1.        ]\n",
      " ..., \n",
      " [ 0.95959596  1.        ]\n",
      " [ 0.97979798  1.        ]\n",
      " [ 1.          1.        ]]\n",
      "(10000, 2)\n"
     ]
    }
   ],
   "source": [
    "coords = np.linspace(-1.0, 1.0, 100)\n",
    "grid = np.vstack(np.meshgrid(coords, coords)).reshape((2, -1)).T\n",
    "print(grid)\n",
    "print(grid.shape)"
   ]
  },
  {
   "cell_type": "code",
   "execution_count": 140,
   "metadata": {},
   "outputs": [],
   "source": [
    "results = winding(poly, grid)"
   ]
  },
  {
   "cell_type": "code",
   "execution_count": 141,
   "metadata": {},
   "outputs": [
    {
     "data": {
      "text/plain": [
       "<matplotlib.image.AxesImage at 0x7ff9483afa10>"
      ]
     },
     "execution_count": 141,
     "metadata": {},
     "output_type": "execute_result"
    },
    {
     "data": {
      "image/png": "[encoded data removed]",
      "text/plain": [
       "<matplotlib.figure.Figure at 0x7ff948448a50>"
      ]
     },
     "metadata": {},
     "output_type": "display_data"
    }
   ],
   "source": [
    "plt.imshow(results.reshape((100, 100)), interpolation=None, cmap=\"gray\")"
   ]
  },
  {
   "cell_type": "code",
   "execution_count": null,
   "metadata": {
    "collapsed": true
   },
   "outputs": [],
   "source": []
  }
 ],
 "metadata": {
  "kernelspec": {
   "display_name": "Python 2",
   "language": "python",
   "name": "python2"
  },
  "language_info": {
   "codemirror_mode": {
    "name": "ipython",
    "version": 2
   },
   "file_extension": ".py",
   "mimetype": "text/x-python",
   "name": "python",
   "nbconvert_exporter": "python",
   "pygments_lexer": "ipython2",
   "version": "2.7.13"
  }
 },
 "nbformat": 4,
 "nbformat_minor": 2
}
