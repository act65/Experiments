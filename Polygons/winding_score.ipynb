{
 "cells": [
  {
   "cell_type": "markdown",
   "metadata": {},
   "source": [
    "We want a soft way of calculating whether a point (in a grid) is inside or outside a given polygon. \n",
    "https://en.wikipedia.org/wiki/Point_in_polygon\n",
    "By 'soft' we mean that the function is differentiable w.r.t the points inside the polygon and gives signial to nearby (neighboring) points (to allow the learning of \n",
    "The points need\n",
    "\n",
    "We need a signal that says. This should/shouldnt have been within the polygon. Adjust the points to make this happen.\n",
    "\n",
    "\n",
    "Potential approaches include;\n",
    "* ray casting\n",
    "* winding number\n",
    "* approximation via triangles/boxes.\n",
    "\n",
    "It seems like we could do this more efficiently by automatically ruling out all the points outside the extremal values of the polygons. `box(max(x), max(y), min(x), min(y))`"
   ]
  },
  {
   "cell_type": "code",
   "execution_count": 1,
   "metadata": {
    "collapsed": true,
    "deletable": true,
    "editable": true
   },
   "outputs": [],
   "source": [
    "%matplotlib inline\n",
    "import matplotlib.pyplot as plt\n",
    "import numpy as np"
   ]
  },
  {
   "cell_type": "code",
   "execution_count": 226,
   "metadata": {
    "collapsed": true,
    "deletable": true,
    "editable": true
   },
   "outputs": [],
   "source": [
    "# start with a simple polygon\n",
    "poly = np.array([[-0.5, -0.5],\n",
    "                 [0.0,  0.5],\n",
    "                 [0.5, -0.5],\n",
    "#                  [0.2, -0.3],\n",
    "                 [-0.5, -0.5]])  # overlap for convenience"
   ]
  },
  {
   "cell_type": "code",
   "execution_count": 251,
   "metadata": {
    "collapsed": true,
    "deletable": true,
    "editable": true
   },
   "outputs": [],
   "source": [
    "def winding(poly, points):\n",
    "    num_verts = poly.shape[0]\n",
    "    num_points = points.shape[0]\n",
    "    diffs = poly.reshape((num_verts, 1, 2)) - points.reshape((1, num_points, 2))\n",
    "    signs = (diffs[:-1, :, 0] < diffs[1:, :, 0]).astype(np.float) #/2 + (diffs[:-1, :, 1] < diffs[1:, :, 1]).astype(np.float)/2\n",
    "    signs = signs * 2 - 1\n",
    "    diffs /= np.sqrt(np.sum(diffs**2, axis=2, keepdims=True))\n",
    "    cos_angles = np.sum(diffs[:-1, :, :] * diffs[1:, :, :], axis=2)\n",
    "    angles = np.arccos(cos_angles)\n",
    "    angles *= signs\n",
    "    return np.sum(angles, axis=0) / (2.0 * np.pi)"
   ]
  },
  {
   "cell_type": "code",
   "execution_count": 252,
   "metadata": {
    "collapsed": true,
    "deletable": true,
    "editable": true
   },
   "outputs": [],
   "source": [
    "test = np.array([[0.1, 0.0],\n",
    "                 [0.0, 0.499],\n",
    "                 [1.0, 0.0]])"
   ]
  },
  {
   "cell_type": "code",
   "execution_count": 253,
   "metadata": {
    "collapsed": false,
    "deletable": true,
    "editable": true
   },
   "outputs": [
    {
     "data": {
      "text/plain": [
       "array([ 0.50636535,  0.70457791,  0.25      ])"
      ]
     },
     "execution_count": 253,
     "metadata": {},
     "output_type": "execute_result"
    }
   ],
   "source": [
    "winding(poly, test)"
   ]
  },
  {
   "cell_type": "code",
   "execution_count": 254,
   "metadata": {
    "collapsed": false,
    "deletable": true,
    "editable": true
   },
   "outputs": [
    {
     "name": "stdout",
     "output_type": "stream",
     "text": [
      "[[-1.         -1.        ]\n",
      " [-0.97979798 -1.        ]\n",
      " [-0.95959596 -1.        ]\n",
      " ..., \n",
      " [ 0.95959596  1.        ]\n",
      " [ 0.97979798  1.        ]\n",
      " [ 1.          1.        ]]\n",
      "(10000, 2)\n"
     ]
    }
   ],
   "source": [
    "coords = np.linspace(-1.0, 1.0, 100)\n",
    "grid = np.vstack(np.meshgrid(coords, coords)).reshape((2, -1)).T\n",
    "print(grid)\n",
    "print(grid.shape)"
   ]
  },
  {
   "cell_type": "code",
   "execution_count": 255,
   "metadata": {
    "collapsed": false,
    "deletable": true,
    "editable": true
   },
   "outputs": [],
   "source": [
    "results = winding(poly, grid)"
   ]
  },
  {
   "cell_type": "code",
   "execution_count": 256,
   "metadata": {
    "collapsed": false,
    "deletable": true,
    "editable": true
   },
   "outputs": [
    {
     "data": {
      "text/plain": [
       "<matplotlib.image.AxesImage at 0x8f67b50>"
      ]
     },
     "execution_count": 256,
     "metadata": {},
     "output_type": "execute_result"
    },
    {
     "data": {
      "image/png": "[encoded data removed]",
      "text/plain": [
       "<matplotlib.figure.Figure at 0x871dc10>"
      ]
     },
     "metadata": {},
     "output_type": "display_data"
    }
   ],
   "source": [
    "results = results.reshape((100, 100))\n",
    "results = np.minimum(results, 1)\n",
    "plt.imshow(results.reshape((100, 100)), interpolation=None, cmap=\"gray\")"
   ]
  },
  {
   "cell_type": "code",
   "execution_count": 257,
   "metadata": {
    "collapsed": false,
    "deletable": true,
    "editable": true
   },
   "outputs": [
    {
     "name": "stdout",
     "output_type": "stream",
     "text": [
      "(-3.0745361920813996e-15, 0.69829188494351402)\n"
     ]
    }
   ],
   "source": [
    "print(np.min(results), np.max(results))"
   ]
  },
  {
   "cell_type": "code",
   "execution_count": 172,
   "metadata": {
    "collapsed": false
   },
   "outputs": [
    {
     "data": {
      "text/plain": [
       "2525"
      ]
     },
     "execution_count": 172,
     "metadata": {},
     "output_type": "execute_result"
    }
   ],
   "source": [
    "np.argmax(results)"
   ]
  },
  {
   "cell_type": "code",
   "execution_count": 173,
   "metadata": {
    "collapsed": false
   },
   "outputs": [
    {
     "data": {
      "text/plain": [
       "array([ 0.21212121, -0.31313131])"
      ]
     },
     "execution_count": 173,
     "metadata": {},
     "output_type": "execute_result"
    }
   ],
   "source": [
    "grid[3460]"
   ]
  },
  {
   "cell_type": "code",
   "execution_count": 174,
   "metadata": {
    "collapsed": false
   },
   "outputs": [
    {
     "data": {
      "text/plain": [
       "(array([ 1497.,  1479.,  1405.,  1158.,   869.,   640.,   511.,   418.,\n",
       "          378.,  1645.]),\n",
       " array([ 0.20077968,  0.28070171,  0.36062374,  0.44054577,  0.52046781,\n",
       "         0.60038984,  0.68031187,  0.7602339 ,  0.84015594,  0.92007797,  1.        ]),\n",
       " <a list of 10 Patch objects>)"
      ]
     },
     "execution_count": 174,
     "metadata": {},
     "output_type": "execute_result"
    },
    {
     "data": {
      "image/png": "[encoded data removed]",
      "text/plain": [
       "<matplotlib.figure.Figure at 0x7d077d0>"
      ]
     },
     "metadata": {},
     "output_type": "display_data"
    }
   ],
   "source": [
    "plt.hist(results.flatten())"
   ]
  },
  {
   "cell_type": "code",
   "execution_count": null,
   "metadata": {
    "collapsed": true
   },
   "outputs": [],
   "source": []
  },
  {
   "cell_type": "code",
   "execution_count": 177,
   "metadata": {
    "collapsed": false,
    "scrolled": false
   },
   "outputs": [
    {
     "name": "stderr",
     "output_type": "stream",
     "text": [
      "/home/ws_sc_2/.pyenv/versions/2.7/lib/python2.7/site-packages/ipykernel/__main__.py:1: RuntimeWarning: invalid value encountered in arccos\n",
      "  if __name__ == '__main__':\n"
     ]
    },
    {
     "data": {
      "text/plain": [
       "array([        nan,         nan,         nan,         nan,         nan,\n",
       "               nan,         nan,         nan,         nan,         nan,\n",
       "               nan,         nan,         nan,  2.78985515,  2.60049313,\n",
       "        2.45831916,  2.3376563 ,  2.22969305,  2.13011904,  2.03641936,\n",
       "        1.94695124,  1.86054803,  1.77632183,  1.69355338,  1.61162399,\n",
       "        1.52996866,  1.44803927,  1.36527082,  1.28104463,  1.19464142,\n",
       "        1.1051733 ,  1.01147361,  0.9118996 ,  0.80393635,  0.6832735 ,\n",
       "        0.54109953,  0.3517375 ,         nan,         nan,         nan,\n",
       "               nan,         nan,         nan,         nan,         nan,\n",
       "               nan,         nan,         nan,         nan,         nan])"
      ]
     },
     "execution_count": 177,
     "metadata": {},
     "output_type": "execute_result"
    }
   ],
   "source": [
    "np.arccos(np.linspace(-2, 2))"
   ]
  },
  {
   "cell_type": "code",
   "execution_count": null,
   "metadata": {
    "collapsed": true
   },
   "outputs": [],
   "source": []
  }
 ],
 "metadata": {
  "kernelspec": {
   "display_name": "Python 2",
   "language": "python",
   "name": "python2"
  },
  "language_info": {
   "codemirror_mode": {
    "name": "ipython",
    "version": 2
   },
   "file_extension": ".py",
   "mimetype": "text/x-python",
   "name": "python",
   "nbconvert_exporter": "python",
   "pygments_lexer": "ipython2",
   "version": "2.7"
  }
 },
 "nbformat": 4,
 "nbformat_minor": 2
}
